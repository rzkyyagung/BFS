{
 "cells": [
  {
   "cell_type": "code",
   "execution_count": 17,
   "metadata": {},
   "outputs": [
    {
     "name": "stdout",
     "output_type": "stream",
     "text": [
      "['B', 'H', 'D']\n"
     ]
    }
   ],
   "source": [
    "peta = {\n",
    "        'A' : set (['B', 'H']),\n",
    "        'B' : set (['A', 'C', 'H']),\n",
    "        'C' : set (['B', 'D', 'E']),\n",
    "        'D' : set (['C', 'E','F','G','H']),\n",
    "        'E' : set (['C', 'D']),\n",
    "        'F' : set (['D', 'G']),\n",
    "        'G' : set (['F', 'D', 'H']),\n",
    "        'H' : set (['A','B', 'D','G']),\n",
    "        }\n",
    "def bfs_lintasan_terpendek(peta, mulai, tujuan):\n",
    "    explored = []\n",
    "    queue = [mulai]\n",
    "    if mulai == tujuan :\n",
    "        return \"awal adalah tujuan\"\n",
    "    \n",
    "    while queue :\n",
    "        jalur = queue.pop(0)\n",
    "        node = jalur[-1]\n",
    "        \n",
    "        if node not in explored :\n",
    "            neighbours = peta[node]\n",
    "\n",
    "            for neighbour in neighbours :\n",
    "                jalur_baru = list(jalur)\n",
    "                jalur_baru.append(neighbour)\n",
    "                queue.append(jalur_baru)\n",
    "                \n",
    "                if neighbour == tujuan:\n",
    "                    return jalur_baru\n",
    "\n",
    "            explored.append(node)\n",
    "\n",
    "    return \"Tidak ditemukan\"\n",
    "\n",
    "mulai = input(\"masukan awal : \")\n",
    "tujuan = input(\"masukan akhir : \")\n",
    "\n",
    "print(bfs_lintasan_terpendek(peta, mulai, tujuan))"
   ]
  }
 ],
 "metadata": {
  "kernelspec": {
   "display_name": "Python 3",
   "language": "python",
   "name": "python3"
  },
  "language_info": {
   "codemirror_mode": {
    "name": "ipython",
    "version": 3
   },
   "file_extension": ".py",
   "mimetype": "text/x-python",
   "name": "python",
   "nbconvert_exporter": "python",
   "pygments_lexer": "ipython3",
   "version": "3.11.9"
  }
 },
 "nbformat": 4,
 "nbformat_minor": 2
}
